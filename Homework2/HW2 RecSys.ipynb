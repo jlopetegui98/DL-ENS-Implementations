{
  "cells": [
    {
      "cell_type": "markdown",
      "id": "b36ac733",
      "metadata": {
        "id": "b36ac733"
      },
      "source": [
        "# Recommender systems\n",
        "\n",
        "In recommender systems, we either assume:\n",
        "\n",
        "- that we know the **rating** that some user gave to some item (for example, \"Joseph Marchand gave 4 stars over 5 to the Suzume movie\"), this is called *explicit feedback*\n",
        "- that we only observe the user interacting with items in a sequence (for example, which songs are played on Spotify or YouTube in which order), but **no ratings**; this is called *implicit feedback*.\n",
        "\n",
        "In this homework, you will build models that optimize either the first setting or the second one.\n",
        "\n",
        "First, execute all cells to ensure you have the necessary packages.\n",
        "\n",
        "## Part 1: Explicit feedback"
      ]
    },
    {
      "cell_type": "code",
      "execution_count": 97,
      "id": "f0da184c",
      "metadata": {
        "id": "f0da184c",
        "outputId": "8bc07219-24f7-47bc-e95f-0c9ac2a6db8c",
        "colab": {
          "base_uri": "https://localhost:8080/"
        }
      },
      "outputs": [
        {
          "output_type": "stream",
          "name": "stdout",
          "text": [
            "Collecting git+https://github.com/maciejkula/spotlight\n",
            "  Cloning https://github.com/maciejkula/spotlight to /tmp/pip-req-build-udbuddji\n",
            "  Running command git clone --filter=blob:none --quiet https://github.com/maciejkula/spotlight /tmp/pip-req-build-udbuddji\n",
            "  Resolved https://github.com/maciejkula/spotlight to commit 75f4c8c55090771b52b88ef1a00f75bb39f9f2a9\n",
            "  Preparing metadata (setup.py) ... \u001b[?25l\u001b[?25hdone\n",
            "Requirement already satisfied: torch>=0.4.0 in /usr/local/lib/python3.10/dist-packages (from spotlight==0.1.6) (2.1.0+cu121)\n",
            "Requirement already satisfied: filelock in /usr/local/lib/python3.10/dist-packages (from torch>=0.4.0->spotlight==0.1.6) (3.13.1)\n",
            "Requirement already satisfied: typing-extensions in /usr/local/lib/python3.10/dist-packages (from torch>=0.4.0->spotlight==0.1.6) (4.5.0)\n",
            "Requirement already satisfied: sympy in /usr/local/lib/python3.10/dist-packages (from torch>=0.4.0->spotlight==0.1.6) (1.12)\n",
            "Requirement already satisfied: networkx in /usr/local/lib/python3.10/dist-packages (from torch>=0.4.0->spotlight==0.1.6) (3.2.1)\n",
            "Requirement already satisfied: jinja2 in /usr/local/lib/python3.10/dist-packages (from torch>=0.4.0->spotlight==0.1.6) (3.1.2)\n",
            "Requirement already satisfied: fsspec in /usr/local/lib/python3.10/dist-packages (from torch>=0.4.0->spotlight==0.1.6) (2023.6.0)\n",
            "Requirement already satisfied: triton==2.1.0 in /usr/local/lib/python3.10/dist-packages (from torch>=0.4.0->spotlight==0.1.6) (2.1.0)\n",
            "Requirement already satisfied: MarkupSafe>=2.0 in /usr/local/lib/python3.10/dist-packages (from jinja2->torch>=0.4.0->spotlight==0.1.6) (2.1.3)\n",
            "Requirement already satisfied: mpmath>=0.19 in /usr/local/lib/python3.10/dist-packages (from sympy->torch>=0.4.0->spotlight==0.1.6) (1.3.0)\n"
          ]
        }
      ],
      "source": [
        "# !pip install numpy scikit-learn torch spotlight tqdm\n",
        "!pip install git+https://github.com/maciejkula/spotlight"
      ]
    },
    {
      "cell_type": "code",
      "execution_count": 98,
      "id": "52deba16",
      "metadata": {
        "id": "52deba16"
      },
      "outputs": [],
      "source": [
        "# !pip install spotlight  # Used as baseline and for preparing datasets\n",
        "import torch\n",
        "from torch import nn\n",
        "import numpy as np\n",
        "from spotlight.cross_validation import random_train_test_split\n",
        "from spotlight.datasets.movielens import get_movielens_dataset\n",
        "from spotlight.evaluation import rmse_score\n",
        "from spotlight.factorization.explicit import ExplicitFactorizationModel\n",
        "from tqdm import tqdm"
      ]
    },
    {
      "cell_type": "code",
      "execution_count": 99,
      "id": "6535cf06",
      "metadata": {
        "id": "6535cf06",
        "outputId": "ce875c90-5ebc-4829-b6e5-9cc95825f82f",
        "colab": {
          "base_uri": "https://localhost:8080/"
        }
      },
      "outputs": [
        {
          "output_type": "stream",
          "name": "stdout",
          "text": [
            "<Interactions dataset (944 users x 1683 items x 100000 interactions)>\n"
          ]
        }
      ],
      "source": [
        "dataset = get_movielens_dataset(variant='100K')\n",
        "print(dataset)\n",
        "\n",
        "train, test = random_train_test_split(dataset)"
      ]
    },
    {
      "cell_type": "code",
      "execution_count": 100,
      "id": "4a36697d",
      "metadata": {
        "id": "4a36697d",
        "outputId": "0d1d5c73-44f5-45cb-8491-3306633e0f35",
        "colab": {
          "base_uri": "https://localhost:8080/"
        }
      },
      "outputs": [
        {
          "output_type": "execute_result",
          "data": {
            "text/plain": [
              "{'num_users': 944,\n",
              " 'num_items': 1683,\n",
              " 'user_ids': array([268, 642, 455, ..., 325, 233, 196], dtype=int32),\n",
              " 'item_ids': array([1249,  934,  318, ...,  655,  257,  393], dtype=int32),\n",
              " 'ratings': array([2., 2., 3., ..., 4., 4., 4.], dtype=float32),\n",
              " 'timestamps': array([875743793, 885606137, 879111528, ..., 891479312, 883356847,\n",
              "        881251863], dtype=int32),\n",
              " 'weights': None}"
            ]
          },
          "metadata": {},
          "execution_count": 100
        }
      ],
      "source": [
        "train.__dict__"
      ]
    },
    {
      "cell_type": "markdown",
      "id": "42b7d9e9",
      "metadata": {
        "id": "42b7d9e9"
      },
      "source": [
        "Users are numbered from 1 to 943 and items are numbered from 1 to 1682.  \n",
        "Number of users is set to 944 and number of items is set to 1683 to avoid off-by-one errors."
      ]
    },
    {
      "cell_type": "code",
      "execution_count": 101,
      "id": "e7752203",
      "metadata": {
        "id": "e7752203",
        "outputId": "38336711-546a-46d9-d2d6-e614008cb8a6",
        "colab": {
          "base_uri": "https://localhost:8080/"
        }
      },
      "outputs": [
        {
          "output_type": "stream",
          "name": "stdout",
          "text": [
            "As an example, user 268 gave 2.0 stars to item 1249.\n"
          ]
        }
      ],
      "source": [
        "print(f\"As an example, user {train.user_ids[0]} gave {train.ratings[0]} stars to item {train.item_ids[0]}.\")"
      ]
    },
    {
      "cell_type": "code",
      "execution_count": 102,
      "id": "3d7cb95d",
      "metadata": {
        "id": "3d7cb95d",
        "outputId": "fe9ede0d-3705-4114-8de0-299c09ff6825",
        "colab": {
          "base_uri": "https://localhost:8080/"
        }
      },
      "outputs": [
        {
          "output_type": "execute_result",
          "data": {
            "text/plain": [
              "0.8"
            ]
          },
          "metadata": {},
          "execution_count": 102
        }
      ],
      "source": [
        "len(train) / len(dataset)"
      ]
    },
    {
      "cell_type": "markdown",
      "id": "b19820d7",
      "metadata": {
        "id": "b19820d7"
      },
      "source": [
        "Train / test is a 80:20 split. We should predict in the test set what is the rating for an unseen (user, item) pair: it is a regression problem."
      ]
    },
    {
      "cell_type": "code",
      "execution_count": 103,
      "id": "a72a838e",
      "metadata": {
        "id": "a72a838e",
        "outputId": "4ebe0cde-90d4-474f-ad8c-5c11dd3f848a",
        "colab": {
          "base_uri": "https://localhost:8080/"
        }
      },
      "outputs": [
        {
          "output_type": "stream",
          "name": "stdout",
          "text": [
            "CPU times: user 1.56 s, sys: 21.8 ms, total: 1.58 s\n",
            "Wall time: 1.75 s\n"
          ]
        },
        {
          "output_type": "execute_result",
          "data": {
            "text/plain": [
              "0.98721665"
            ]
          },
          "metadata": {},
          "execution_count": 103
        }
      ],
      "source": [
        "%%time\n",
        "model = ExplicitFactorizationModel(n_iter=3)\n",
        "model.fit(train)\n",
        "\n",
        "rmse_score(model, test)"
      ]
    },
    {
      "cell_type": "markdown",
      "id": "f86fb13e",
      "metadata": {
        "id": "f86fb13e"
      },
      "source": [
        "A first exercise is to reproduce this metric. We will do it together in order to make sure that we talk about the same thing, i.e.:\n",
        "\n",
        "$$\\text{RMSE}(y^*, y) = \\sqrt{\\frac1N \\sum_{i = 1}^N (y^*_i - y_i)^2}$$"
      ]
    },
    {
      "cell_type": "code",
      "execution_count": 104,
      "id": "e51310dd",
      "metadata": {
        "id": "e51310dd"
      },
      "outputs": [],
      "source": [
        "def our_rmse(y_true, y_pred):\n",
        "    return ((y_true - y_pred) ** 2).mean() ** 0.5"
      ]
    },
    {
      "cell_type": "code",
      "execution_count": 105,
      "id": "38d2feed",
      "metadata": {
        "id": "38d2feed",
        "outputId": "b5e0b3e8-f6f3-4eb3-db6e-ae50a20b44df",
        "colab": {
          "base_uri": "https://localhost:8080/"
        }
      },
      "outputs": [
        {
          "output_type": "execute_result",
          "data": {
            "text/plain": [
              "array([4.958328 , 3.0055618, 2.5709307, ..., 3.0423715, 3.2789707,\n",
              "       3.1752238], dtype=float32)"
            ]
          },
          "metadata": {},
          "execution_count": 105
        }
      ],
      "source": [
        "y_pred = model.predict(test.user_ids, test.item_ids)\n",
        "y_pred"
      ]
    },
    {
      "cell_type": "code",
      "execution_count": 106,
      "id": "826d1967",
      "metadata": {
        "id": "826d1967",
        "outputId": "daea4951-5b34-4ca5-af6b-f395362c0dc2",
        "colab": {
          "base_uri": "https://localhost:8080/"
        }
      },
      "outputs": [
        {
          "output_type": "execute_result",
          "data": {
            "text/plain": [
              "(tensor([[ 268, 1249],\n",
              "         [ 642,  934],\n",
              "         [ 455,  318],\n",
              "         [ 664,   97],\n",
              "         [ 833, 1274]]),\n",
              " tensor([2., 2., 3., 3., 1.]))"
            ]
          },
          "metadata": {},
          "execution_count": 106
        }
      ],
      "source": [
        "X_train = torch.LongTensor(np.column_stack((train.user_ids, train.item_ids)))\n",
        "X_test = torch.LongTensor(np.column_stack((test.user_ids, test.item_ids)))\n",
        "y_train = torch.Tensor(train.ratings)\n",
        "y_test = torch.Tensor(test.ratings)\n",
        "\n",
        "X_train[:5], y_train[:5]"
      ]
    },
    {
      "cell_type": "code",
      "execution_count": 107,
      "id": "4870483d",
      "metadata": {
        "id": "4870483d",
        "outputId": "8c63177a-2eb7-4714-9ead-a17744e9c590",
        "colab": {
          "base_uri": "https://localhost:8080/"
        }
      },
      "outputs": [
        {
          "output_type": "execute_result",
          "data": {
            "text/plain": [
              "tensor(0.9872)"
            ]
          },
          "metadata": {},
          "execution_count": 107
        }
      ],
      "source": [
        "our_rmse(y_test, y_pred)"
      ]
    },
    {
      "cell_type": "markdown",
      "id": "39d3f5ff",
      "metadata": {
        "id": "39d3f5ff"
      },
      "source": [
        "> *Yes, I got the same thing.*\n",
        "\n",
        "— The Social Network"
      ]
    },
    {
      "cell_type": "code",
      "execution_count": 108,
      "id": "b18aca4e",
      "metadata": {
        "id": "b18aca4e",
        "outputId": "378338d0-16a3-4e03-b918-79f93833e9a5",
        "colab": {
          "base_uri": "https://localhost:8080/"
        }
      },
      "outputs": [
        {
          "output_type": "execute_result",
          "data": {
            "text/plain": [
              "tensor(1.1255)"
            ]
          },
          "metadata": {},
          "execution_count": 108
        }
      ],
      "source": [
        "our_rmse(y_test, torch.ones_like(y_test) * y_train.mean())  # Simplest baseline"
      ]
    },
    {
      "cell_type": "code",
      "execution_count": 109,
      "id": "c30f2d52",
      "metadata": {
        "id": "c30f2d52"
      },
      "outputs": [],
      "source": [
        "BATCH_SIZE = 300\n",
        "train_dataset = torch.utils.data.TensorDataset(X_train, y_train)\n",
        "test_dataset = torch.utils.data.TensorDataset(X_test, y_test)\n",
        "train_iter = torch.utils.data.DataLoader(train_dataset, batch_size=BATCH_SIZE, shuffle=True)"
      ]
    },
    {
      "cell_type": "code",
      "execution_count": 110,
      "id": "943f3e1a",
      "metadata": {
        "id": "943f3e1a"
      },
      "outputs": [],
      "source": [
        "class CollaborativeFilteringModel(nn.Module):\n",
        "    \"\"\"\n",
        "    Recommender system for explicit feedback\n",
        "    \"\"\"\n",
        "    def __init__(self, nb_users, nb_items, embedding_size):\n",
        "        super().__init__()\n",
        "        self.nb_users = nb_users\n",
        "        self.nb_items = nb_items\n",
        "        self.embedding_size = embedding_size\n",
        "\n",
        "        self.user_embeddings = nn.Embedding(nb_users, embedding_size)\n",
        "        self.item_embeddings = nn.Embedding(nb_items, embedding_size)\n",
        "        self.func = nn.Linear(2*embedding_size, 1)\n",
        "        pass\n",
        "\n",
        "    def forward(self, x):\n",
        "        # forward method for collaborative filtering model\n",
        "        user_emb = self.user_embeddings(x[:, 0])\n",
        "        item_emb = self.item_embeddings(x[:, 1])\n",
        "        return self.func(torch.cat([user_emb, item_emb], dim=1)).squeeze()\n",
        "\n",
        "EMBEDDING_SIZE = 20\n",
        "model = CollaborativeFilteringModel(train.num_users, train.num_items, EMBEDDING_SIZE)"
      ]
    },
    {
      "cell_type": "code",
      "execution_count": 111,
      "id": "8b2c66d1",
      "metadata": {
        "id": "8b2c66d1"
      },
      "outputs": [],
      "source": [
        "N_EPOCHS = 80\n",
        "LEARNING_RATE = 0.01\n",
        "loss_function = nn.MSELoss()  # It's a regression problem\n",
        "# You can also check what happens where there is no weight decay i.e. no L2 regularization\n",
        "optimizer = torch.optim.Adam(model.parameters(), lr=LEARNING_RATE, weight_decay=1e-3)"
      ]
    },
    {
      "cell_type": "code",
      "execution_count": 112,
      "id": "fabf6313",
      "metadata": {
        "id": "fabf6313",
        "outputId": "42757dde-9568-416a-9f49-0eaa3cb1666e",
        "colab": {
          "base_uri": "https://localhost:8080/",
          "height": 501
        }
      },
      "outputs": [
        {
          "output_type": "stream",
          "name": "stderr",
          "text": [
            "100%|██████████| 80/80 [00:03<00:00, 23.84it/s]"
          ]
        },
        {
          "output_type": "stream",
          "name": "stdout",
          "text": [
            "CPU times: user 3.01 s, sys: 137 ms, total: 3.15 s\n",
            "Wall time: 3.41 s\n"
          ]
        },
        {
          "output_type": "stream",
          "name": "stderr",
          "text": [
            "\n"
          ]
        },
        {
          "output_type": "execute_result",
          "data": {
            "text/plain": [
              "<matplotlib.legend.Legend at 0x7b1129de5570>"
            ]
          },
          "metadata": {},
          "execution_count": 112
        },
        {
          "output_type": "display_data",
          "data": {
            "text/plain": [
              "<Figure size 640x480 with 1 Axes>"
            ],
            "image/png": "[encoded data removed]"
          },
          "metadata": {}
        }
      ],
      "source": [
        "%%time\n",
        "import math\n",
        "losses_train_rmse = []\n",
        "losses_test_rmse = []\n",
        "for epoch in tqdm(range(N_EPOCHS)):\n",
        "    # Your code here, write a training loop and plot train and test RMSE.\n",
        "    # Don't forget that the loss is the mean squared error.\n",
        "    # If you want to display RMSE, you need to take its square root.\n",
        "\n",
        "    output = model(X_train)\n",
        "    loss = loss_function(output, y_train)\n",
        "    losses_train_rmse.append(math.sqrt(loss.item()))\n",
        "    loss.backward()\n",
        "    optimizer.step()\n",
        "    optimizer.zero_grad()\n",
        "\n",
        "    output_test = model(X_test)\n",
        "    loss_test = loss_function(output_test, y_test)\n",
        "    losses_test_rmse.append(math.sqrt(loss_test.item()))\n",
        "\n",
        "# Plotting loss curves\n",
        "import matplotlib.pyplot as plt\n",
        "plt.plot(losses_train_rmse, label='train')\n",
        "plt.plot(losses_test_rmse, label='test')\n",
        "plt.legend()"
      ]
    },
    {
      "cell_type": "markdown",
      "id": "d0ef1776",
      "metadata": {
        "id": "d0ef1776"
      },
      "source": [
        "## Part 2: Implicit feedback\n",
        "\n",
        "In this section, we do not observe numerical ratings anymore, just sequences of items."
      ]
    },
    {
      "cell_type": "code",
      "execution_count": 113,
      "id": "c1353156",
      "metadata": {
        "id": "c1353156",
        "outputId": "834f4127-afc9-4265-b9ca-51a375fa26c7",
        "colab": {
          "base_uri": "https://localhost:8080/"
        }
      },
      "outputs": [
        {
          "output_type": "stream",
          "name": "stdout",
          "text": [
            "CPU times: user 3.74 s, sys: 4.15 ms, total: 3.74 s\n",
            "Wall time: 6.77 s\n"
          ]
        },
        {
          "output_type": "execute_result",
          "data": {
            "text/plain": [
              "0.04090704804660741"
            ]
          },
          "metadata": {},
          "execution_count": 113
        }
      ],
      "source": [
        "%%time\n",
        "from spotlight.cross_validation import user_based_train_test_split\n",
        "from spotlight.evaluation import sequence_mrr_score\n",
        "from spotlight.sequence.implicit import ImplicitSequenceModel\n",
        "\n",
        "# If you want to debug on a smaller dataset first, you can use this\n",
        "'''from spotlight.datasets.synthetic import generate_sequential\n",
        "dataset = generate_sequential(num_users=100,\n",
        "                              num_items=1000,\n",
        "                              num_interactions=10000,\n",
        "                              concentration_parameter=0.01,\n",
        "                              order=3)'''\n",
        "\n",
        "# Otherwise we reuse Movielens\n",
        "train, test = user_based_train_test_split(dataset)\n",
        "\n",
        "train = train.to_sequence()\n",
        "test = test.to_sequence()\n",
        "\n",
        "model = ImplicitSequenceModel(n_iter=3,\n",
        "                              representation='pooling',\n",
        "                              loss='pointwise')\n",
        "model.fit(train)\n",
        "\n",
        "sequence_mrr_score(model, test).mean()"
      ]
    },
    {
      "cell_type": "code",
      "execution_count": 114,
      "id": "e54b1ef3",
      "metadata": {
        "id": "e54b1ef3",
        "outputId": "8866734d-6b20-4c96-fa41-a3b427ccccca",
        "colab": {
          "base_uri": "https://localhost:8080/"
        }
      },
      "outputs": [
        {
          "output_type": "execute_result",
          "data": {
            "text/plain": [
              "<Sequence interactions dataset (8467 sequences x 10 sequence length)>"
            ]
          },
          "metadata": {},
          "execution_count": 114
        }
      ],
      "source": [
        "train"
      ]
    },
    {
      "cell_type": "code",
      "execution_count": 115,
      "id": "2f9baa58",
      "metadata": {
        "id": "2f9baa58",
        "outputId": "d96535b7-1475-40fc-ca45-b05632c287dc",
        "colab": {
          "base_uri": "https://localhost:8080/"
        }
      },
      "outputs": [
        {
          "output_type": "execute_result",
          "data": {
            "text/plain": [
              "{'sequences': array([[ 321,  260,  329, ...,  320,  317,  181],\n",
              "        [ 322,  330,  264, ...,  328,  348,  327],\n",
              "        [ 332,  307,  271, ...,  335,  323,  349],\n",
              "        ...,\n",
              "        [ 993,  763,  475, ..., 1007,   15,    1],\n",
              "        [ 294,  358,  117, ...,    7,  257,  124],\n",
              "        [   0,    0,    0, ...,    0,  258,  300]], dtype=int32),\n",
              " 'user_ids': array([  3,   3,   3, ..., 941, 941, 941], dtype=int32),\n",
              " 'max_sequence_length': 10,\n",
              " 'num_items': 1683}"
            ]
          },
          "metadata": {},
          "execution_count": 115
        }
      ],
      "source": [
        "train.__dict__"
      ]
    },
    {
      "cell_type": "markdown",
      "id": "6b4f57dc",
      "metadata": {
        "id": "6b4f57dc"
      },
      "source": [
        "The `train` dataset contains 8000+ sequences of length 10 representing the movies seen, IDs between 1 and 1683.\n",
        "\n",
        "We do have access to user IDs but we will not need them. Here, the maximum length of a sequence is 10, so sequences have been split to be of max size 10. Sequences having less than 10 items are padded with 0s.\n",
        "\n",
        "The objective becomes, given the first 9 items, predict the 10th item (classification). In order to have a better comparison of models, we are mainly interested in a ranking metric: in the ranked movies by probability, where was the correct answer? Mean reciprocal rank is, for $N$ samples:\n",
        "\n",
        "$${\\text{MRR}}={\\frac {1}{N}}\\sum _{{i=1}}^{{N}}{\\frac {1}{{\\text{rank}}_{i}}}$$\n",
        "\n",
        "where $\\text{rank}_i$ is a number between 1 and 1683, the number of items, which represents the rank of the expected answer, where movies are ranked by decreasing probability. The MRR is between 0 and 1 and higher is better (when all ranks are 1).\n",
        "\n",
        "Again, we will first attempt to reproduce the metric."
      ]
    },
    {
      "cell_type": "code",
      "execution_count": 116,
      "id": "ba62e759",
      "metadata": {
        "id": "ba62e759",
        "outputId": "d75dbce8-9194-44c7-fa82-4634e6522a63",
        "colab": {
          "base_uri": "https://localhost:8080/"
        }
      },
      "outputs": [
        {
          "output_type": "execute_result",
          "data": {
            "text/plain": [
              "(1972, 1683)"
            ]
          },
          "metadata": {},
          "execution_count": 116
        }
      ],
      "source": [
        "from sklearn.metrics import label_ranking_average_precision_score\n",
        "from sklearn.preprocessing import OneHotEncoder\n",
        "from scipy.special import softmax\n",
        "\n",
        "ohe = OneHotEncoder(categories=[list(range(train.num_items))])\n",
        "target = ohe.fit_transform(test.sequences[:, [-1]]).toarray()\n",
        "\n",
        "target.shape  # The target is a one-hot encoding of correct answers for each sample"
      ]
    },
    {
      "cell_type": "code",
      "execution_count": 117,
      "id": "e4a77620",
      "metadata": {
        "id": "e4a77620",
        "outputId": "3525c49a-5892-4550-b8bd-57f36d3bb705",
        "colab": {
          "base_uri": "https://localhost:8080/"
        }
      },
      "outputs": [
        {
          "output_type": "execute_result",
          "data": {
            "text/plain": [
              "array([[0.  , 0.  , 0.  , ..., 0.  , 0.  , 0.  ],\n",
              "       [0.  , 0.01, 0.  , ..., 0.  , 0.  , 0.  ],\n",
              "       [0.  , 0.01, 0.  , ..., 0.  , 0.  , 0.  ],\n",
              "       ...,\n",
              "       [0.  , 0.01, 0.  , ..., 0.  , 0.  , 0.  ],\n",
              "       [0.  , 0.01, 0.  , ..., 0.  , 0.  , 0.  ],\n",
              "       [0.  , 0.01, 0.  , ..., 0.  , 0.  , 0.  ]], dtype=float32)"
            ]
          },
          "metadata": {},
          "execution_count": 117
        }
      ],
      "source": [
        "y_pred = []\n",
        "for seq in test.sequences:\n",
        "    y_pred.append(softmax(model.predict(seq[:-1])))\n",
        "y_pred = np.array(y_pred)\n",
        "y_pred.round(2)  # The predictions are probabilities for each sample x item"
      ]
    },
    {
      "cell_type": "code",
      "execution_count": 118,
      "id": "b0fe2a58",
      "metadata": {
        "id": "b0fe2a58",
        "outputId": "aec01042-8db7-4661-94eb-2e43a94789e0",
        "colab": {
          "base_uri": "https://localhost:8080/"
        }
      },
      "outputs": [
        {
          "output_type": "execute_result",
          "data": {
            "text/plain": [
              "0.04090704804660758"
            ]
          },
          "metadata": {},
          "execution_count": 118
        }
      ],
      "source": [
        "# This function is actually more generic as it can also consider multilabel classification\n",
        "# i.e. several correct answers for a sample. In our case (1 correct answer per sample) it is equal to MRR.\n",
        "label_ranking_average_precision_score(target, y_pred)"
      ]
    },
    {
      "cell_type": "markdown",
      "id": "905b96e8",
      "metadata": {
        "id": "905b96e8"
      },
      "source": [
        "Again, we got the same number. We now show the metric for two simple baselines:"
      ]
    },
    {
      "cell_type": "code",
      "execution_count": 119,
      "id": "7e352b6b",
      "metadata": {
        "id": "7e352b6b",
        "outputId": "c3136769-d5e0-44dc-806e-307e80d4f052",
        "colab": {
          "base_uri": "https://localhost:8080/"
        }
      },
      "outputs": [
        {
          "output_type": "execute_result",
          "data": {
            "text/plain": [
              "0.006675754080598566"
            ]
          },
          "metadata": {},
          "execution_count": 119
        }
      ],
      "source": [
        "from collections import Counter\n",
        "\n",
        "item_counts = Counter(train.sequences[:, -1])\n",
        "most_popular_item = item_counts.most_common()[0][0]\n",
        "most_popular_baseline = np.zeros_like(target)\n",
        "most_popular_baseline[:, most_popular_item] = 1\n",
        "label_ranking_average_precision_score(target, most_popular_baseline)"
      ]
    },
    {
      "cell_type": "code",
      "execution_count": 120,
      "id": "72df46d9",
      "metadata": {
        "id": "72df46d9",
        "outputId": "adeb05e0-2655-4478-d06b-ead999049482",
        "colab": {
          "base_uri": "https://localhost:8080/"
        }
      },
      "outputs": [
        {
          "output_type": "execute_result",
          "data": {
            "text/plain": [
              "0.024357714758922393"
            ]
          },
          "metadata": {},
          "execution_count": 120
        }
      ],
      "source": [
        "popularity = np.zeros(train.num_items)\n",
        "for item_id, count in item_counts.items():\n",
        "    popularity[item_id] = count\n",
        "popularity = softmax(popularity)\n",
        "popularity_baseline = np.tile(popularity, (len(target), 1))  # Repeat for each test sample\n",
        "label_ranking_average_precision_score(target, popularity_baseline)"
      ]
    },
    {
      "cell_type": "markdown",
      "id": "7718098d",
      "metadata": {
        "id": "7718098d"
      },
      "source": [
        "You should now write a model / module that takes a batch of sequences of max 9 elements and should predict the next one.\n",
        "\n",
        "You can either take:\n",
        "- a sequential approach, i.e. RNN / LSTM / GRU or a transformer like [minGPT](https://github.com/karpathy/minGPT) (which is more complex; please start simple);\n",
        "- or a non-sequential one like [CBOW](https://lilianweng.github.io/posts/2017-10-15-word-embedding/#context-based-continuous-bag-of-words-cbow).\n",
        "\n",
        "Loss can either be cross-entropy (simple), [noise contrastive estimation, or negative sampling](https://lilianweng.github.io/posts/2017-10-15-word-embedding/#noise-contrastive-estimation-nce).\n",
        "\n",
        "The goal is to have comparable or better MRR than 0.04.\n",
        "\n",
        "P. S. – In order to ignore index 0 you can use `padding_idx` in [nn.Embedding](https://pytorch.org/docs/stable/generated/torch.nn.Embedding.html) or the function [`masked_select()`](https://pytorch.org/docs/stable/generated/torch.masked_select.html) for RNN."
      ]
    },
    {
      "cell_type": "code",
      "source": [
        "class CBOWPredictor(nn.Module):\n",
        "    def __init__(self, num_items, embedding_dim, context_size):\n",
        "        super(CBOWPredictor, self).__init__()\n",
        "        self.embedding = nn.Embedding(num_items, embedding_dim, padding_idx=0)\n",
        "        self.fc = nn.Linear(context_size * embedding_dim, num_items)\n",
        "\n",
        "    def forward(self, x):\n",
        "        embedded = self.embedding(x)\n",
        "        embedded = embedded.view(embedded.size(0), -1)  # Flatten the embeddings\n",
        "        output = self.fc(embedded)\n",
        "        return output"
      ],
      "metadata": {
        "id": "e0gXSWPhBV65"
      },
      "id": "e0gXSWPhBV65",
      "execution_count": 121,
      "outputs": []
    },
    {
      "cell_type": "code",
      "source": [
        "# now the training loop\n",
        "model = CBOWPredictor(train.num_items, 20, 9)\n",
        "loss_function = nn.CrossEntropyLoss()\n",
        "optimizer = torch.optim.Adam(model.parameters(), lr=0.01, weight_decay=1e-3)\n",
        "\n",
        "train_dataset = torch.utils.data.TensorDataset(torch.LongTensor(train.sequences[:, :-1]),\n",
        "                                                  torch.LongTensor(train.sequences[:, -1])) # Last element is target\n",
        "test_dataset = torch.utils.data.TensorDataset(torch.LongTensor(test.sequences[:, :-1]),\n",
        "                                                    torch.LongTensor(test.sequences[:, -1]))\n",
        "\n",
        "train_iter = torch.utils.data.DataLoader(train_dataset, batch_size=300, shuffle=True)\n",
        "test_iter = torch.utils.data.DataLoader(test_dataset, batch_size=300, shuffle=True)\n",
        "\n",
        "N_EPOCHS = 30"
      ],
      "metadata": {
        "id": "c8Q8Ja97BXRF"
      },
      "id": "c8Q8Ja97BXRF",
      "execution_count": 122,
      "outputs": []
    },
    {
      "cell_type": "code",
      "source": [
        "# Training loop\n",
        "losses_train = []\n",
        "losses_test = []\n",
        "\n",
        "for epoch in tqdm(range(N_EPOCHS)):\n",
        "    t_loss_train = 0\n",
        "    for batch in train_iter:\n",
        "        x, y = batch\n",
        "        output = model(x)\n",
        "        loss = loss_function(output, y)\n",
        "        t_loss_train += loss.item()\n",
        "        loss.backward()\n",
        "        optimizer.step()\n",
        "        optimizer.zero_grad()\n",
        "\n",
        "    losses_train.append(t_loss_train/len(train_iter))\n",
        "\n",
        "\n",
        "    with torch.no_grad():\n",
        "        t_loss_test = 0\n",
        "        for batch in test_iter:\n",
        "            x, y = batch\n",
        "            output = model(x)\n",
        "            loss = loss_function(output, y)\n",
        "            t_loss_test += loss.item()\n",
        "        losses_test.append(t_loss_test/len(test_iter))\n",
        "\n",
        "# Plotting loss curves\n",
        "import matplotlib.pyplot as plt\n",
        "plt.plot(losses_train, label='train')\n",
        "plt.plot(losses_test, label='test')\n",
        "plt.legend()"
      ],
      "metadata": {
        "id": "NMm303C-CCqT",
        "outputId": "0e9b8657-5321-4fda-86eb-477a645db940",
        "colab": {
          "base_uri": "https://localhost:8080/",
          "height": 466
        }
      },
      "id": "NMm303C-CCqT",
      "execution_count": 123,
      "outputs": [
        {
          "output_type": "stream",
          "name": "stderr",
          "text": [
            "100%|██████████| 30/30 [00:22<00:00,  1.31it/s]\n"
          ]
        },
        {
          "output_type": "execute_result",
          "data": {
            "text/plain": [
              "<matplotlib.legend.Legend at 0x7b112b6421a0>"
            ]
          },
          "metadata": {},
          "execution_count": 123
        },
        {
          "output_type": "display_data",
          "data": {
            "text/plain": [
              "<Figure size 640x480 with 1 Axes>"
            ],
            "image/png": "[encoded data removed]"
          },
          "metadata": {}
        }
      ]
    },
    {
      "cell_type": "code",
      "source": [
        "y_pred = []\n",
        "for sequences, t in test_iter:\n",
        "    batch_predictions = model(sequences).detach().numpy()\n",
        "    y_pred.extend(batch_predictions)\n",
        "y_pred = np.array(y_pred)"
      ],
      "metadata": {
        "id": "iFZoRQn2Fzoc"
      },
      "id": "iFZoRQn2Fzoc",
      "execution_count": 132,
      "outputs": []
    },
    {
      "cell_type": "code",
      "source": [
        "lrap_score = label_ranking_average_precision_score(target, y_pred)\n",
        "print(\"RMM:\", lrap_score)"
      ],
      "metadata": {
        "id": "DMBkWx2QGTGA",
        "outputId": "aaeaec45-1210-4004-a216-94af14e43a65",
        "colab": {
          "base_uri": "https://localhost:8080/"
        }
      },
      "id": "DMBkWx2QGTGA",
      "execution_count": 134,
      "outputs": [
        {
          "output_type": "stream",
          "name": "stdout",
          "text": [
            "RMM: 0.016539502800846338\n"
          ]
        }
      ]
    }
  ],
  "metadata": {
    "kernelspec": {
      "display_name": "Python 3 (ipykernel)",
      "language": "python",
      "name": "python3"
    },
    "language_info": {
      "codemirror_mode": {
        "name": "ipython",
        "version": 3
      },
      "file_extension": ".py",
      "mimetype": "text/x-python",
      "name": "python",
      "nbconvert_exporter": "python",
      "pygments_lexer": "ipython3",
      "version": "3.10.12"
    },
    "colab": {
      "provenance": []
    }
  },
  "nbformat": 4,
  "nbformat_minor": 5
}